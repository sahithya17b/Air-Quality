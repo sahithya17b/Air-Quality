{
  "nbformat": 4,
  "nbformat_minor": 0,
  "metadata": {
    "colab": {
      "provenance": [],
      "authorship_tag": "ABX9TyP8hP8Lp4T34syURElqIqTr",
      "include_colab_link": true
    },
    "kernelspec": {
      "name": "python3",
      "display_name": "Python 3"
    },
    "language_info": {
      "name": "python"
    }
  },
  "cells": [
    {
      "cell_type": "markdown",
      "metadata": {
        "id": "view-in-github",
        "colab_type": "text"
      },
      "source": [
        "<a href=\"https://colab.research.google.com/github/sahithya17b/Air-Quality/blob/main/day_7.ipynb\" target=\"_parent\"><img src=\"https://colab.research.google.com/assets/colab-badge.svg\" alt=\"Open In Colab\"/></a>"
      ]
    },
    {
      "cell_type": "code",
      "execution_count": 1,
      "metadata": {
        "colab": {
          "base_uri": "https://localhost:8080/"
        },
        "id": "am2veMWdVBp9",
        "outputId": "05f8c798-80e4-403b-e0e1-28aff0da22e8"
      },
      "outputs": [
        {
          "output_type": "stream",
          "name": "stdout",
          "text": [
            "Enter your height in meters: 1.5\n",
            "Enter your weight in kilograms: 65\n",
            "\n",
            "Your BMI is: 28.89\n",
            "Category: Overweight\n",
            "\n",
            "Would you like to calculate again? (yes/no): yes\n",
            "Enter your height in meters: 2\n",
            "Enter your weight in kilograms: 55\n",
            "\n",
            "Your BMI is: 13.75\n",
            "Category: Underweight\n",
            "\n",
            "Would you like to calculate again? (yes/no): yes\n",
            "Enter your height in meters: 1.5\n",
            "Enter your weight in kilograms: 50\n",
            "\n",
            "Your BMI is: 22.22\n",
            "Category: Normal weight\n",
            "\n",
            "Would you like to calculate again? (yes/no): no\n",
            "Your BMI is: 22.20\n",
            "Category: Normal weight\n"
          ]
        }
      ],
      "source": [
        "#BMI Calculator Code (With Loop & Error Handling)\n",
        "while True:\n",
        "    try:\n",
        "        height = float(input(\"Enter your height in meters: \"))\n",
        "        weight = float(input(\"Enter your weight in kilograms: \"))\n",
        "\n",
        "        if height <= 0 or weight <= 0:\n",
        "            print(\"Height and weight must be positive numbers.\\n\")\n",
        "            continue\n",
        "\n",
        "        bmi = weight / (height ** 2)\n",
        "        print(f\"\\nYour BMI is: {bmi:.2f}\")\n",
        "\n",
        "        if bmi < 18.5:\n",
        "            print(\"Category: Underweight\")\n",
        "        elif 18.5 <= bmi < 24.9:\n",
        "            print(\"Category: Normal weight\")\n",
        "        elif 25 <= bmi < 29.9:\n",
        "            print(\"Category: Overweight\")\n",
        "        else:\n",
        "            print(\"Category: Obese\")\n",
        "\n",
        "    except ValueError:\n",
        "        print(\"Invalid input. Please enter numeric values.\\n\")\n",
        "        continue\n",
        "\n",
        "    again = input(\"\\nWould you like to calculate again? (yes/no): \").strip().lower()\n",
        "    if again != \"yes\":\n",
        "        break\n",
        "\n",
        "## BMI Calculator Code (With numpy)\n",
        "import numpy as np\n",
        "\n",
        "height = np.array(1.75)  # in meters\n",
        "weight = np.array(68)    # in kilograms\n",
        "\n",
        "bmi = weight / np.power(height, 2)\n",
        "print(f\"Your BMI is: {bmi:.2f}\")\n",
        "\n",
        "if bmi < 18.5:\n",
        "    print(\"Category: Underweight\")\n",
        "elif 18.5 <= bmi < 24.9:\n",
        "    print(\"Category: Normal weight\")\n",
        "elif 25 <= bmi < 29.9:\n",
        "    print(\"Category: Overweight\")\n",
        "else:\n",
        "    print(\"Category: Obese\")\n"
      ]
    }
  ]
}