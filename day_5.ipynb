{
  "nbformat": 4,
  "nbformat_minor": 0,
  "metadata": {
    "colab": {
      "provenance": [],
      "authorship_tag": "ABX9TyOa+ZNIXj8BYUQR481/8Y7T",
      "include_colab_link": true
    },
    "kernelspec": {
      "name": "python3",
      "display_name": "Python 3"
    },
    "language_info": {
      "name": "python"
    }
  },
  "cells": [
    {
      "cell_type": "markdown",
      "metadata": {
        "id": "view-in-github",
        "colab_type": "text"
      },
      "source": [
        "<a href=\"https://colab.research.google.com/github/sahithya17b/Air-Quality/blob/main/day_5.ipynb\" target=\"_parent\"><img src=\"https://colab.research.google.com/assets/colab-badge.svg\" alt=\"Open In Colab\"/></a>"
      ]
    },
    {
      "cell_type": "code",
      "execution_count": 3,
      "metadata": {
        "colab": {
          "base_uri": "https://localhost:8080/"
        },
        "id": "0d423q1CV1A7",
        "outputId": "9a7e4bfe-1ba8-4ea4-a0c1-e65a97bc6aa2"
      },
      "outputs": [
        {
          "output_type": "stream",
          "name": "stdout",
          "text": [
            "Fibonacci of 5: 5\n",
            "Factorial of 5: 120\n",
            "List: [0, 1, 4, 9, 16]\n",
            "Tuple: (0, 1, 8, 27, 64)\n",
            "Dictionary: {0: 0, 1: 1, 2: 4, 3: 9, 4: 16}\n",
            "Sum: 12\n",
            "name: Alice\n",
            "age: 25\n",
            "city: Mumbai\n"
          ]
        }
      ],
      "source": [
        "\n",
        "#Day 5\n",
        "#Task1: Do fibonacci & factorial of a number using recursive functions\n",
        "def fibonacci(n):\n",
        "    if n <= 1:\n",
        "        return n\n",
        "    return fibonacci(n-1) + fibonacci(n-2)\n",
        "print(\"Fibonacci of 5:\", fibonacci(5))\n",
        "def factorial(n):\n",
        "    if n == 0:\n",
        "        return 1\n",
        "    return n * factorial(n-1)\n",
        "print(\"Factorial of 5:\", factorial(5))\n",
        "#Task 2: Game for module os random math\n",
        "import os\n",
        "import random\n",
        "\n",
        "def clear():\n",
        "    os.system('cls' if os.name == 'nt' else 'clear')\n",
        "\n",
        "def guess_character():\n",
        "    characters = {\n",
        "        \"Iron Man\": \"Genius billionaire in a metal suit\",\n",
        "        \"Sherlock Holmes\": \"Detective with sharp reasoning\",\n",
        "        \"Harry Potter\": \"Wizard with a lightning scar\",\n",
        "        \"Batman\": \"Dark knight of Gotham\",\n",
        "        \"Spiderman\": \"Teen with spider powers\"\n",
        "    }\n",
        "\n",
        "    name = random.choice(list(characters.keys()))\n",
        "    hint = characters[name]\n",
        "\n",
        "    clear()\n",
        "    print(\"Guess the character!\")\n",
        "    print(\"Hint:\", hint)\n",
        "    guess = input(\"Your guess: \")\n",
        "\n",
        "    if guess.lower() == name.lower():\n",
        "        print(\"Correct!\")\n",
        "    else:\n",
        "        print(\"Wrong! It was\", name)\n",
        "\n",
        "#Task3: list, tuple & dictionary comprehensions. runtime arguments with *args **kwargs\n",
        "# List comprehension: squares of numbers\n",
        "squares = [x**2 for x in range(5)]\n",
        "print(\"List:\", squares)\n",
        "\n",
        "# Tuple comprehension (via generator, then converted to tuple)\n",
        "cubes = tuple(x**3 for x in range(5))\n",
        "print(\"Tuple:\", cubes)\n",
        "\n",
        "# Dictionary comprehension: number and its square\n",
        "square_dict = {x: x**2 for x in range(5)}\n",
        "print(\"Dictionary:\", square_dict)\n",
        "# *args: variable number of positional arguments\n",
        "def add_numbers(*args):\n",
        "    return sum(args)\n",
        "\n",
        "print(\"Sum:\", add_numbers(2, 4, 6))\n",
        "\n",
        "# **kwargs: variable number of keyword arguments\n",
        "def print_info(**kwargs):\n",
        "    for key, value in kwargs.items():\n",
        "        print(f\"{key}: {value}\")\n",
        "\n",
        "print_info(name=\"Alice\", age=25, city=\"Mumbai\")\n",
        "\n",
        ""
      ]
    }
  ]
}