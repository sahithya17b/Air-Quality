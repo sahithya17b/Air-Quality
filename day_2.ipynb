{
  "nbformat": 4,
  "nbformat_minor": 0,
  "metadata": {
    "colab": {
      "provenance": [],
      "authorship_tag": "ABX9TyMHx0vggVcZi3PnYKi2IxZM",
      "include_colab_link": true
    },
    "kernelspec": {
      "name": "python3",
      "display_name": "Python 3"
    },
    "language_info": {
      "name": "python"
    }
  },
  "cells": [
    {
      "cell_type": "markdown",
      "metadata": {
        "id": "view-in-github",
        "colab_type": "text"
      },
      "source": [
        "<a href=\"https://colab.research.google.com/github/sahithya17b/Air-Quality/blob/main/day_2.ipynb\" target=\"_parent\"><img src=\"https://colab.research.google.com/assets/colab-badge.svg\" alt=\"Open In Colab\"/></a>"
      ]
    },
    {
      "cell_type": "code",
      "execution_count": 1,
      "metadata": {
        "colab": {
          "base_uri": "https://localhost:8080/"
        },
        "id": "kia8Q9MHYEUl",
        "outputId": "9e03b5a5-5cec-4024-e8e4-0262ee3dead4"
      },
      "outputs": [
        {
          "output_type": "stream",
          "name": "stdout",
          "text": [
            "19\n",
            "11\n",
            "60\n",
            "3.75\n",
            "3\n",
            "50625\n",
            "3\n"
          ]
        }
      ],
      "source": [
        "x = 15\n",
        "y = 4\n",
        "\n",
        "print(x + y)    # 19\n",
        "print(x - y)    # 11\n",
        "print(x * y)    # 60\n",
        "print(x / y)    # 3.75\n",
        "print(x % y)    # 3\n",
        "print(x ** y)   # 50625\n",
        "print(x // y)"
      ]
    },
    {
      "cell_type": "code",
      "source": [
        "text = \"Infy Springboard\"\n",
        "\n",
        "print(text.lower())           # infy springboard\n",
        "print(text.upper())           # INFY SPRINGBOARD\n",
        "print(text.strip())           # Infy Springboard\n",
        "print(text.replace(\"Infy\", \"Infosys\"))   # Infosys Springboard\n",
        "print(text.split())           # ['Infy', 'Springboard']\n",
        "print(len(text))              # 16"
      ],
      "metadata": {
        "colab": {
          "base_uri": "https://localhost:8080/"
        },
        "id": "ZeVc3ZjeYJ8z",
        "outputId": "b43e9bf5-7fb7-4465-f94e-2261789588fa"
      },
      "execution_count": 2,
      "outputs": [
        {
          "output_type": "stream",
          "name": "stdout",
          "text": [
            "infy springboard\n",
            "INFY SPRINGBOARD\n",
            "Infy Springboard\n",
            "Infosys Springboard\n",
            "['Infy', 'Springboard']\n",
            "16\n"
          ]
        }
      ]
    },
    {
      "cell_type": "code",
      "source": [
        "s = \"Hello\"\n",
        "t = \"World\"\n",
        "\n",
        "print(s + t)        # HelloWorld\n",
        "print(s * 3)        # HelloHelloHello\n",
        "print(s[1])         # e\n",
        "print(s[1:4])       # ell\n",
        "print(\"e\" in s)     # True\n",
        "print(\"z\" not in s) # True"
      ],
      "metadata": {
        "colab": {
          "base_uri": "https://localhost:8080/"
        },
        "id": "b1cRAHSVYNru",
        "outputId": "ca46684a-cd9a-428e-842c-4ce0762b6f37"
      },
      "execution_count": 3,
      "outputs": [
        {
          "output_type": "stream",
          "name": "stdout",
          "text": [
            "HelloWorld\n",
            "HelloHelloHello\n",
            "e\n",
            "ell\n",
            "True\n",
            "True\n"
          ]
        }
      ]
    }
  ]
}