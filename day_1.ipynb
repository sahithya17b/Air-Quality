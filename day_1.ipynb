{
  "nbformat": 4,
  "nbformat_minor": 0,
  "metadata": {
    "colab": {
      "provenance": [],
      "authorship_tag": "ABX9TyOPkqpHM4vmzuwx6SIifjiO",
      "include_colab_link": true
    },
    "kernelspec": {
      "name": "python3",
      "display_name": "Python 3"
    },
    "language_info": {
      "name": "python"
    }
  },
  "cells": [
    {
      "cell_type": "markdown",
      "metadata": {
        "id": "view-in-github",
        "colab_type": "text"
      },
      "source": [
        "<a href=\"https://colab.research.google.com/github/sahithya17b/Air-Quality/blob/main/day_1.ipynb\" target=\"_parent\"><img src=\"https://colab.research.google.com/assets/colab-badge.svg\" alt=\"Open In Colab\"/></a>"
      ]
    },
    {
      "cell_type": "code",
      "execution_count": 1,
      "metadata": {
        "colab": {
          "base_uri": "https://localhost:8080/"
        },
        "id": "7Wo1Q-rYYuGy",
        "outputId": "5a4cabd6-4334-4c28-87d7-d84b2eece385"
      },
      "outputs": [
        {
          "output_type": "stream",
          "name": "stdout",
          "text": [
            "Original list: [1, 2, 'abc', 3, 4]\n",
            "After append: [1, 2, 'abc', 3, 4, 'new']\n",
            "After removing 2: [1, 'abc', 3, 4, 'new']\n",
            "After modifying index 0: ['first', 'abc', 3, 4, 'new']\n",
            "Reversed list: ['new', 4, 3, 'abc', 'first']\n",
            "Index of abc : 1\n"
          ]
        }
      ],
      "source": [
        "data = [1, 2, 'abc', 3, 4]\n",
        "\n",
        "print(\"Original list:\", data)\n",
        "\n",
        "data.append('new')               # Add an item\n",
        "print(\"After append:\", data)\n",
        "\n",
        "data.remove(2)                   # Remove an item\n",
        "print(\"After removing 2:\", data)\n",
        "\n",
        "data[0] = 'first'                # Modify an item\n",
        "print(\"After modifying index 0:\", data)\n",
        "\n",
        "print(\"Reversed list:\", data[::-1])  # Reverse the list\n",
        "\n",
        "item = 'abc'\n",
        "if item in data:\n",
        "    print(\"Index of\", item, \":\", data.index(item))\n",
        "else:\n",
        "    print(item, \"not found in list.\")            # 16"
      ]
    },
    {
      "cell_type": "code",
      "source": [
        "smedia = {\n",
        "    \"Twitter\": 140,\n",
        "    \"Facebook\": \"status\",\n",
        "    \"Instagram\": \"photo\",\n",
        "    \"Snapchat\": \"message\",\n",
        "    \"Linkedin\": \"work\"\n",
        "}\n",
        "\n",
        "print(\"Original dictionary:\", smedia)\n",
        "print(\"Length:\", len(smedia))\n",
        "print(\"Max key:\", max(smedia))\n",
        "print(\"Min key:\", min(smedia))\n",
        "\n",
        "del smedia[\"Facebook\"]\n",
        "print(\"After deleting 'Facebook':\", smedia)\n",
        "\n",
        "popped_value = smedia.pop(\"Instagram\")\n",
        "print(\"Popped 'Instagram':\", popped_value)\n",
        "print(\"After pop:\", smedia)\n",
        "\n",
        "smedia.clear()\n",
        "print(\"After clear:\", smedia)"
      ],
      "metadata": {
        "colab": {
          "base_uri": "https://localhost:8080/"
        },
        "id": "fXqyPBCDY_jf",
        "outputId": "05c16b68-51fc-4533-b683-cc2b020e2307"
      },
      "execution_count": 2,
      "outputs": [
        {
          "output_type": "stream",
          "name": "stdout",
          "text": [
            "Original dictionary: {'Twitter': 140, 'Facebook': 'status', 'Instagram': 'photo', 'Snapchat': 'message', 'Linkedin': 'work'}\n",
            "Length: 5\n",
            "Max key: Twitter\n",
            "Min key: Facebook\n",
            "After deleting 'Facebook': {'Twitter': 140, 'Instagram': 'photo', 'Snapchat': 'message', 'Linkedin': 'work'}\n",
            "Popped 'Instagram': photo\n",
            "After pop: {'Twitter': 140, 'Snapchat': 'message', 'Linkedin': 'work'}\n",
            "After clear: {}\n"
          ]
        }
      ]
    },
    {
      "cell_type": "code",
      "source": [
        "s1 = {\"python\", \"C++\", \"Java\"}\n",
        "\n",
        "s1.add(\"SQL\")\n",
        "print(\"After add:\", s1)\n",
        "\n",
        "s1.update([\"HTML\", \"CSS\"])\n",
        "print(\"After update:\", s1)\n",
        "\n",
        "s1.discard(\"C++\")\n",
        "print(\"After discard:\", s1)\n",
        "\n",
        "s1.remove(\"Java\")\n",
        "print(\"After remove:\", s1)\n",
        "\n",
        "s2 = s1.copy()\n",
        "print(\"Copied set:\", s2)\n",
        "\n",
        "s1.clear()\n",
        "print(\"After clear:\", s1)"
      ],
      "metadata": {
        "colab": {
          "base_uri": "https://localhost:8080/"
        },
        "id": "zxSpCpwjZERQ",
        "outputId": "31daa3da-307b-42ac-a8dc-258fcc0c2258"
      },
      "execution_count": 3,
      "outputs": [
        {
          "output_type": "stream",
          "name": "stdout",
          "text": [
            "After add: {'python', 'C++', 'Java', 'SQL'}\n",
            "After update: {'SQL', 'C++', 'CSS', 'python', 'HTML', 'Java'}\n",
            "After discard: {'SQL', 'CSS', 'python', 'HTML', 'Java'}\n",
            "After remove: {'SQL', 'CSS', 'python', 'HTML'}\n",
            "Copied set: {'python', 'HTML', 'CSS', 'SQL'}\n",
            "After clear: set()\n"
          ]
        }
      ]
    },
    {
      "cell_type": "code",
      "source": [
        "s1 = {1, 2, 3, 4, 5}\n",
        "s2 = {4, 5, 6, 7, 8}\n",
        "\n",
        "print(\"Union:\", s1.union(s2))\n",
        "print(\"Intersection:\", s1.intersection(s2))\n",
        "print(\"Difference (s1 - s2):\", s1.difference(s2))\n",
        "print(\"Symmetric Difference:\", s1.symmetric_difference(s2))"
      ],
      "metadata": {
        "colab": {
          "base_uri": "https://localhost:8080/"
        },
        "id": "5Tb-0ZjmZLp3",
        "outputId": "8cd08990-d7e5-4185-e304-6abab56fe2cd"
      },
      "execution_count": 4,
      "outputs": [
        {
          "output_type": "stream",
          "name": "stdout",
          "text": [
            "Union: {1, 2, 3, 4, 5, 6, 7, 8}\n",
            "Intersection: {4, 5}\n",
            "Difference (s1 - s2): {1, 2, 3}\n",
            "Symmetric Difference: {1, 2, 3, 6, 7, 8}\n"
          ]
        }
      ]
    }
  ]
}